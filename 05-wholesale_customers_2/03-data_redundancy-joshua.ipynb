{
 "cells": [
  {
   "cell_type": "code",
   "execution_count": 10,
   "metadata": {},
   "outputs": [],
   "source": [
    "import pandas as pd\n",
    "import numpy as np\n",
    "import seaborn as sns\n",
    "import matplotlib.pyplot as plt\n",
    "%matplotlib inline"
   ]
  },
  {
   "cell_type": "code",
   "execution_count": 11,
   "metadata": {},
   "outputs": [],
   "source": [
    "customer_df = pd.read_csv('Wholesale_customers_data.csv')\n",
    "customer_df.drop(['Channel', 'Region'], axis=1, inplace=True)"
   ]
  },
  {
   "cell_type": "code",
   "execution_count": 12,
   "metadata": {},
   "outputs": [
    {
     "data": {
      "text/plain": [
       "(440, 6)"
      ]
     },
     "execution_count": 12,
     "metadata": {},
     "output_type": "execute_result"
    }
   ],
   "source": [
    "customer_df.shape"
   ]
  },
  {
   "cell_type": "markdown",
   "metadata": {},
   "source": [
    "# Correlation and Redundancy\n",
    "\n",
    "I claim that there is correlation and redundancy in the `customer` table. What I mean by this is that some features are linear combinations of other features. "
   ]
  },
  {
   "cell_type": "markdown",
   "metadata": {},
   "source": [
    "Let's examine redundancy by dropping a feature and seeing if the other features can predict it."
   ]
  },
  {
   "cell_type": "code",
   "execution_count": 13,
   "metadata": {},
   "outputs": [],
   "source": [
    "from sklearn.model_selection import train_test_split\n",
    "from sklearn.neighbors import KNeighborsRegressor"
   ]
  },
  {
   "cell_type": "code",
   "execution_count": 14,
   "metadata": {},
   "outputs": [],
   "source": [
    "def calculate_r_2_for_feature(data,feature):\n",
    "    new_data = data.drop(feature, axis=1)\n",
    "\n",
    "    X_train, \\\n",
    "    X_test,  \\\n",
    "    y_train, \\\n",
    "    y_test = train_test_split(\n",
    "        new_data,data[feature],test_size=0.25\n",
    "    )\n",
    "\n",
    "    regressor = KNeighborsRegressor()\n",
    "    regressor.fit(X_train,y_train)\n",
    "\n",
    "    score = regressor.score(X_test,y_test)\n",
    "    return score"
   ]
  },
  {
   "cell_type": "code",
   "execution_count": 15,
   "metadata": {},
   "outputs": [
    {
     "data": {
      "text/plain": [
       "0.81639633694510971"
      ]
     },
     "execution_count": 15,
     "metadata": {},
     "output_type": "execute_result"
    }
   ],
   "source": [
    "calculate_r_2_for_feature(customer_df,'Detergents_Paper')"
   ]
  },
  {
   "cell_type": "code",
   "execution_count": 16,
   "metadata": {},
   "outputs": [
    {
     "name": "stdout",
     "output_type": "stream",
     "text": [
      "Delicatessen:            0.12736493072592114\n",
      "Degergents_paper:        0.813855354082842\n",
      "Fresh:                   0.11055117524890756\n",
      "Frozen:                  0.2865571993775965\n",
      "Grocery:                 0.7841561872647095\n",
      "Milk:                    0.5190218454371045\n"
     ]
    }
   ],
   "source": [
    "print(\"{:24} {}\".format(\"Delicatessen: \", calculate_r_2_for_feature(customer_df,'Delicatessen')))\n",
    "print(\"{:24} {}\".format(\"Degergents_paper: \", calculate_r_2_for_feature(customer_df,'Detergents_Paper')))\n",
    "print(\"{:24} {}\".format(\"Fresh: \", calculate_r_2_for_feature(customer_df,'Fresh')))\n",
    "print(\"{:24} {}\".format(\"Frozen: \", calculate_r_2_for_feature(customer_df,'Frozen')))\n",
    "print(\"{:24} {}\".format(\"Grocery: \", calculate_r_2_for_feature(customer_df,'Grocery')))\n",
    "print(\"{:24} {}\".format(\"Milk: \", calculate_r_2_for_feature(customer_df,'Milk')))"
   ]
  },
  {
   "cell_type": "markdown",
   "metadata": {},
   "source": [
    "But this is subject to randomness. There is randomness in my `train_test_split`. Let's do the whole thing many times and take the average. "
   ]
  },
  {
   "cell_type": "code",
   "execution_count": 17,
   "metadata": {},
   "outputs": [],
   "source": [
    "def mean_r2_for_feature(data, feature):\n",
    "    scores = []\n",
    "    for _ in range(100):\n",
    "        scores.append(calculate_r_2_for_feature(data, feature))\n",
    "        \n",
    "    scores = np.array(scores)\n",
    "    return scores.mean()"
   ]
  },
  {
   "cell_type": "code",
   "execution_count": 18,
   "metadata": {},
   "outputs": [
    {
     "name": "stdout",
     "output_type": "stream",
     "text": [
      "Delicatessen:            -0.005278354087659234\n",
      "Detergents_Paper:        0.7621129919075682\n",
      "Fresh:                   0.0013581208553223533\n",
      "Frozen:                  0.06641401673047911\n",
      "Grocery:                 0.7316500925046295\n",
      "Milk:                    0.47551264646723473\n"
     ]
    }
   ],
   "source": [
    "print(\"{:24} {}\".format(\"Delicatessen: \", mean_r2_for_feature(customer_df,'Delicatessen')))\n",
    "print(\"{:24} {}\".format(\"Detergents_Paper: \", mean_r2_for_feature(customer_df,'Detergents_Paper')))\n",
    "print(\"{:24} {}\".format(\"Fresh: \", mean_r2_for_feature(customer_df,'Fresh')))\n",
    "print(\"{:24} {}\".format(\"Frozen: \", mean_r2_for_feature(customer_df,'Frozen')))\n",
    "print(\"{:24} {}\".format(\"Grocery: \", mean_r2_for_feature(customer_df,'Grocery')))\n",
    "print(\"{:24} {}\".format(\"Milk: \", mean_r2_for_feature(customer_df,'Milk')))"
   ]
  },
  {
   "cell_type": "code",
   "execution_count": 19,
   "metadata": {},
   "outputs": [
    {
     "name": "stdout",
     "output_type": "stream",
     "text": [
      "Delicatessen:            -0.011465005472657545\n",
      "Detergents_Paper:        0.7616175340466245\n",
      "Fresh:                   0.006475332188606115\n",
      "Frozen:                  0.10297163324240877\n",
      "Grocery:                 0.7212911304493217\n",
      "Milk:                    0.46185844066735887\n"
     ]
    }
   ],
   "source": [
    "print(\"{:24} {}\".format(\"Delicatessen: \", mean_r2_for_feature(customer_df,'Delicatessen')))\n",
    "print(\"{:24} {}\".format(\"Detergents_Paper: \", mean_r2_for_feature(customer_df,'Detergents_Paper')))\n",
    "print(\"{:24} {}\".format(\"Fresh: \", mean_r2_for_feature(customer_df,'Fresh')))\n",
    "print(\"{:24} {}\".format(\"Frozen: \", mean_r2_for_feature(customer_df,'Frozen')))\n",
    "print(\"{:24} {}\".format(\"Grocery: \", mean_r2_for_feature(customer_df,'Grocery')))\n",
    "print(\"{:24} {}\".format(\"Milk: \", mean_r2_for_feature(customer_df,'Milk')))"
   ]
  },
  {
   "cell_type": "markdown",
   "metadata": {},
   "source": [
    "#### Discussion\n",
    "\n",
    "What does this tell us?"
   ]
  },
  {
   "cell_type": "code",
   "execution_count": null,
   "metadata": {},
   "outputs": [],
   "source": []
  },
  {
   "cell_type": "markdown",
   "metadata": {},
   "source": [
    "## Visualize Redundancy"
   ]
  },
  {
   "cell_type": "markdown",
   "metadata": {},
   "source": [
    "Study the correlation of the data."
   ]
  },
  {
   "cell_type": "code",
   "execution_count": null,
   "metadata": {},
   "outputs": [],
   "source": [
    "import time\n",
    "start = time.time()\n",
    "sns.pairplot(customer_df, kind='reg')\n",
    "print(time.time() - start)"
   ]
  },
  {
   "cell_type": "code",
   "execution_count": null,
   "metadata": {},
   "outputs": [],
   "source": [
    "corr = customer_df.corr()\n",
    "mask = np.zeros_like(corr)\n",
    "mask[np.triu_indices_from(mask, 0)] = True\n",
    "with sns.axes_style(\"white\"):\n",
    "    ax = sns.heatmap(corr, mask=mask, square=True, annot=True,\n",
    "                     cmap='RdBu', fmt='+.3f')\n",
    "    plt.xticks(rotation=45, ha='center')"
   ]
  },
  {
   "cell_type": "code",
   "execution_count": null,
   "metadata": {},
   "outputs": [],
   "source": []
  }
 ],
 "metadata": {
  "kernelspec": {
   "display_name": "Python 3",
   "language": "python",
   "name": "python3"
  },
  "language_info": {
   "codemirror_mode": {
    "name": "ipython",
    "version": 3
   },
   "file_extension": ".py",
   "mimetype": "text/x-python",
   "name": "python",
   "nbconvert_exporter": "python",
   "pygments_lexer": "ipython3",
   "version": "3.6.4"
  }
 },
 "nbformat": 4,
 "nbformat_minor": 2
}
