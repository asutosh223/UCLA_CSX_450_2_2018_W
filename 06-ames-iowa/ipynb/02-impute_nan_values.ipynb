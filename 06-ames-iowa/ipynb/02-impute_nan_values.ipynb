{
 "cells": [
  {
   "cell_type": "code",
   "execution_count": 117,
   "metadata": {},
   "outputs": [],
   "source": [
    "source('../src/load_data-01.r')"
   ]
  },
  {
   "cell_type": "code",
   "execution_count": 118,
   "metadata": {},
   "outputs": [
    {
     "data": {
      "text/html": [
       "<ol class=list-inline>\n",
       "\t<li>1460</li>\n",
       "\t<li>82</li>\n",
       "</ol>\n"
      ],
      "text/latex": [
       "\\begin{enumerate*}\n",
       "\\item 1460\n",
       "\\item 82\n",
       "\\end{enumerate*}\n"
      ],
      "text/markdown": [
       "1. 1460\n",
       "2. 82\n",
       "\n",
       "\n"
      ],
      "text/plain": [
       "[1] 1460   82"
      ]
     },
     "metadata": {},
     "output_type": "display_data"
    }
   ],
   "source": [
    "dim(housing_df)"
   ]
  },
  {
   "cell_type": "code",
   "execution_count": 119,
   "metadata": {},
   "outputs": [
    {
     "data": {
      "text/html": [
       "<table>\n",
       "<thead><tr><th scope=col>X</th><th scope=col>MSSubClass</th><th scope=col>MSZoning</th><th scope=col>LotFrontage</th><th scope=col>LotArea</th><th scope=col>LotShape</th><th scope=col>LandContour</th><th scope=col>Utilities</th><th scope=col>LotConfig</th><th scope=col>LandSlope</th><th scope=col>⋯</th><th scope=col>PoolQC</th><th scope=col>Fence</th><th scope=col>MiscFeature</th><th scope=col>MiscVal</th><th scope=col>MoSold</th><th scope=col>YrSold</th><th scope=col>SaleType</th><th scope=col>SaleCondition</th><th scope=col>SalePrice</th><th scope=col>has_pool</th></tr></thead>\n",
       "<tbody>\n",
       "\t<tr><td>1      </td><td>60     </td><td>RL     </td><td>65     </td><td> 8450  </td><td>Reg    </td><td>Lvl    </td><td>AllPub </td><td>Inside </td><td>Gtl    </td><td>⋯      </td><td>       </td><td>       </td><td>       </td><td>  0    </td><td>2      </td><td>2008   </td><td>WD     </td><td>Normal </td><td>208500 </td><td>FALSE  </td></tr>\n",
       "\t<tr><td>2      </td><td>20     </td><td>RL     </td><td>80     </td><td> 9600  </td><td>Reg    </td><td>Lvl    </td><td>AllPub </td><td>FR2    </td><td>Gtl    </td><td>⋯      </td><td>       </td><td>       </td><td>       </td><td>  0    </td><td>5      </td><td>2007   </td><td>WD     </td><td>Normal </td><td>181500 </td><td>FALSE  </td></tr>\n",
       "\t<tr><td>3      </td><td>60     </td><td>RL     </td><td>68     </td><td>11250  </td><td>IR1    </td><td>Lvl    </td><td>AllPub </td><td>Inside </td><td>Gtl    </td><td>⋯      </td><td>       </td><td>       </td><td>       </td><td>  0    </td><td>9      </td><td>2008   </td><td>WD     </td><td>Normal </td><td>223500 </td><td>FALSE  </td></tr>\n",
       "\t<tr><td>4      </td><td>70     </td><td>RL     </td><td>60     </td><td> 9550  </td><td>IR1    </td><td>Lvl    </td><td>AllPub </td><td>Corner </td><td>Gtl    </td><td>⋯      </td><td>       </td><td>       </td><td>       </td><td>  0    </td><td>2      </td><td>2006   </td><td>WD     </td><td>Abnorml</td><td>140000 </td><td>FALSE  </td></tr>\n",
       "\t<tr><td>5      </td><td>60     </td><td>RL     </td><td>84     </td><td>14260  </td><td>IR1    </td><td>Lvl    </td><td>AllPub </td><td>FR2    </td><td>Gtl    </td><td>⋯      </td><td>       </td><td>       </td><td>       </td><td>  0    </td><td>12     </td><td>2008   </td><td>WD     </td><td>Normal </td><td>250000 </td><td>FALSE  </td></tr>\n",
       "\t<tr><td>6      </td><td>50     </td><td>RL     </td><td>85     </td><td>14115  </td><td>IR1    </td><td>Lvl    </td><td>AllPub </td><td>Inside </td><td>Gtl    </td><td>⋯      </td><td>       </td><td>MnPrv  </td><td>Shed   </td><td>700    </td><td>10     </td><td>2009   </td><td>WD     </td><td>Normal </td><td>143000 </td><td>FALSE  </td></tr>\n",
       "</tbody>\n",
       "</table>\n"
      ],
      "text/latex": [
       "\\begin{tabular}{r|llllllllllllllllllllllllllllllllllllllllllllllllllllllllllllllllllllllllllllllllll}\n",
       " X & MSSubClass & MSZoning & LotFrontage & LotArea & LotShape & LandContour & Utilities & LotConfig & LandSlope & ⋯ & PoolQC & Fence & MiscFeature & MiscVal & MoSold & YrSold & SaleType & SaleCondition & SalePrice & has\\_pool\\\\\n",
       "\\hline\n",
       "\t 1       & 60      & RL      & 65      &  8450   & Reg     & Lvl     & AllPub  & Inside  & Gtl     & ⋯       &         &         &         &   0     & 2       & 2008    & WD      & Normal  & 208500  & FALSE  \\\\\n",
       "\t 2       & 20      & RL      & 80      &  9600   & Reg     & Lvl     & AllPub  & FR2     & Gtl     & ⋯       &         &         &         &   0     & 5       & 2007    & WD      & Normal  & 181500  & FALSE  \\\\\n",
       "\t 3       & 60      & RL      & 68      & 11250   & IR1     & Lvl     & AllPub  & Inside  & Gtl     & ⋯       &         &         &         &   0     & 9       & 2008    & WD      & Normal  & 223500  & FALSE  \\\\\n",
       "\t 4       & 70      & RL      & 60      &  9550   & IR1     & Lvl     & AllPub  & Corner  & Gtl     & ⋯       &         &         &         &   0     & 2       & 2006    & WD      & Abnorml & 140000  & FALSE  \\\\\n",
       "\t 5       & 60      & RL      & 84      & 14260   & IR1     & Lvl     & AllPub  & FR2     & Gtl     & ⋯       &         &         &         &   0     & 12      & 2008    & WD      & Normal  & 250000  & FALSE  \\\\\n",
       "\t 6       & 50      & RL      & 85      & 14115   & IR1     & Lvl     & AllPub  & Inside  & Gtl     & ⋯       &         & MnPrv   & Shed    & 700     & 10      & 2009    & WD      & Normal  & 143000  & FALSE  \\\\\n",
       "\\end{tabular}\n"
      ],
      "text/markdown": [
       "\n",
       "X | MSSubClass | MSZoning | LotFrontage | LotArea | LotShape | LandContour | Utilities | LotConfig | LandSlope | ⋯ | PoolQC | Fence | MiscFeature | MiscVal | MoSold | YrSold | SaleType | SaleCondition | SalePrice | has_pool | \n",
       "|---|---|---|---|---|---|\n",
       "| 1       | 60      | RL      | 65      |  8450   | Reg     | Lvl     | AllPub  | Inside  | Gtl     | ⋯       |         |         |         |   0     | 2       | 2008    | WD      | Normal  | 208500  | FALSE   | \n",
       "| 2       | 20      | RL      | 80      |  9600   | Reg     | Lvl     | AllPub  | FR2     | Gtl     | ⋯       |         |         |         |   0     | 5       | 2007    | WD      | Normal  | 181500  | FALSE   | \n",
       "| 3       | 60      | RL      | 68      | 11250   | IR1     | Lvl     | AllPub  | Inside  | Gtl     | ⋯       |         |         |         |   0     | 9       | 2008    | WD      | Normal  | 223500  | FALSE   | \n",
       "| 4       | 70      | RL      | 60      |  9550   | IR1     | Lvl     | AllPub  | Corner  | Gtl     | ⋯       |         |         |         |   0     | 2       | 2006    | WD      | Abnorml | 140000  | FALSE   | \n",
       "| 5       | 60      | RL      | 84      | 14260   | IR1     | Lvl     | AllPub  | FR2     | Gtl     | ⋯       |         |         |         |   0     | 12      | 2008    | WD      | Normal  | 250000  | FALSE   | \n",
       "| 6       | 50      | RL      | 85      | 14115   | IR1     | Lvl     | AllPub  | Inside  | Gtl     | ⋯       |         | MnPrv   | Shed    | 700     | 10      | 2009    | WD      | Normal  | 143000  | FALSE   | \n",
       "\n",
       "\n"
      ],
      "text/plain": [
       "  X MSSubClass MSZoning LotFrontage LotArea LotShape LandContour Utilities\n",
       "1 1 60         RL       65           8450   Reg      Lvl         AllPub   \n",
       "2 2 20         RL       80           9600   Reg      Lvl         AllPub   \n",
       "3 3 60         RL       68          11250   IR1      Lvl         AllPub   \n",
       "4 4 70         RL       60           9550   IR1      Lvl         AllPub   \n",
       "5 5 60         RL       84          14260   IR1      Lvl         AllPub   \n",
       "6 6 50         RL       85          14115   IR1      Lvl         AllPub   \n",
       "  LotConfig LandSlope ⋯ PoolQC Fence MiscFeature MiscVal MoSold YrSold SaleType\n",
       "1 Inside    Gtl       ⋯                            0     2      2008   WD      \n",
       "2 FR2       Gtl       ⋯                            0     5      2007   WD      \n",
       "3 Inside    Gtl       ⋯                            0     9      2008   WD      \n",
       "4 Corner    Gtl       ⋯                            0     2      2006   WD      \n",
       "5 FR2       Gtl       ⋯                            0     12     2008   WD      \n",
       "6 Inside    Gtl       ⋯        MnPrv Shed        700     10     2009   WD      \n",
       "  SaleCondition SalePrice has_pool\n",
       "1 Normal        208500    FALSE   \n",
       "2 Normal        181500    FALSE   \n",
       "3 Normal        223500    FALSE   \n",
       "4 Abnorml       140000    FALSE   \n",
       "5 Normal        250000    FALSE   \n",
       "6 Normal        143000    FALSE   "
      ]
     },
     "metadata": {},
     "output_type": "display_data"
    }
   ],
   "source": [
    "head(housing_df)"
   ]
  },
  {
   "cell_type": "code",
   "execution_count": 120,
   "metadata": {
    "scrolled": true
   },
   "outputs": [
    {
     "data": {
      "text/html": [
       "<dl class=dl-horizontal>\n",
       "\t<dt>LotFrontage</dt>\n",
       "\t\t<dd>259</dd>\n",
       "\t<dt>MasVnrArea</dt>\n",
       "\t\t<dd>8</dd>\n",
       "\t<dt>GarageYrBlt</dt>\n",
       "\t\t<dd>81</dd>\n",
       "</dl>\n"
      ],
      "text/latex": [
       "\\begin{description*}\n",
       "\\item[LotFrontage] 259\n",
       "\\item[MasVnrArea] 8\n",
       "\\item[GarageYrBlt] 81\n",
       "\\end{description*}\n"
      ],
      "text/markdown": [
       "LotFrontage\n",
       ":   259MasVnrArea\n",
       ":   8GarageYrBlt\n",
       ":   81\n",
       "\n"
      ],
      "text/plain": [
       "LotFrontage  MasVnrArea GarageYrBlt \n",
       "        259           8          81 "
      ]
     },
     "metadata": {},
     "output_type": "display_data"
    }
   ],
   "source": [
    "nan_sums = colSums(is.na(housing_df))\n",
    "nan_sums[nan_sums > 0]\n"
   ]
  },
  {
   "cell_type": "code",
   "execution_count": 121,
   "metadata": {},
   "outputs": [],
   "source": [
    "mean_LotFrontage <- mean(housing_df$LotFrontage, na.rm=T)\n",
    "mean_MasVnrArea <- mean(housing_df$MasVnrArea, na.rm=T)\n",
    "mean_GarageYrBlt <- mean(housing_df$GarageYrBlt, na.rm=T)"
   ]
  },
  {
   "cell_type": "code",
   "execution_count": 122,
   "metadata": {},
   "outputs": [],
   "source": [
    "housing_df$LotFrontage[is.na(housing_df$LotFrontage)] <- mean_LotFrontage\n",
    "housing_df$MasVnrArea[is.na(housing_df$MasVnrArea)] <- mean_MasVnrArea\n",
    "housing_df$GarageYrBlt[is.na(housing_df$GarageYrBlt)] <- mean_GarageYrBlt"
   ]
  },
  {
   "cell_type": "code",
   "execution_count": 123,
   "metadata": {},
   "outputs": [
    {
     "data": {
      "text/html": [],
      "text/latex": [],
      "text/markdown": [],
      "text/plain": [
       "named numeric(0)"
      ]
     },
     "metadata": {},
     "output_type": "display_data"
    }
   ],
   "source": [
    "nan_sums = colSums(is.na(housing_df))\n",
    "nan_sums[nan_sums > 0]"
   ]
  },
  {
   "cell_type": "code",
   "execution_count": 124,
   "metadata": {},
   "outputs": [],
   "source": [
    "count_empty_values <- function (feature) {\n",
    "    empty_string_mask = housing_df[feature] == \"\"\n",
    "    return(length(housing_df[feature][empty_string_mask]))\n",
    "}\n",
    "\n",
    "count_empty_total <- function (){\n",
    "    for (feature in colnames(housing_df)) {\n",
    "        empty_count <- count_empty_values(feature)\n",
    "        if (empty_count > 0) {\n",
    "            print(paste(feature, empty_count))        \n",
    "        }\n",
    "    }\n",
    "}"
   ]
  },
  {
   "cell_type": "code",
   "execution_count": 125,
   "metadata": {},
   "outputs": [
    {
     "name": "stdout",
     "output_type": "stream",
     "text": [
      "[1] \"Alley 1369\"\n",
      "[1] \"MasVnrType 8\"\n",
      "[1] \"BsmtQual 37\"\n",
      "[1] \"BsmtCond 37\"\n",
      "[1] \"BsmtExposure 38\"\n",
      "[1] \"BsmtFinType1 37\"\n",
      "[1] \"BsmtFinType2 38\"\n",
      "[1] \"Electrical 1\"\n",
      "[1] \"FireplaceQu 690\"\n",
      "[1] \"GarageType 81\"\n",
      "[1] \"GarageFinish 81\"\n",
      "[1] \"GarageQual 81\"\n",
      "[1] \"GarageCond 81\"\n",
      "[1] \"PoolQC 1453\"\n",
      "[1] \"Fence 1179\"\n",
      "[1] \"MiscFeature 1406\"\n"
     ]
    }
   ],
   "source": [
    "count_empty_total()"
   ]
  },
  {
   "cell_type": "code",
   "execution_count": 126,
   "metadata": {},
   "outputs": [],
   "source": [
    "empty_means_without <-c(\"Alley\",\"BsmtQual\",\"BsmtCond\",\"BsmtExposure\",\"BsmtFinType1\",\n",
    "                        \"BsmtFinType2\", \"FireplaceQu\",\"GarageType\",\"GarageFinish\",\n",
    "                        \"GarageQual\",\"GarageCond\",\"PoolQC\",\"Fence\",\"MiscFeature\")\n",
    "\n",
    "empty_means_NA <- c(\"MasVnrType\",\"Electrical\")"
   ]
  },
  {
   "cell_type": "code",
   "execution_count": 127,
   "metadata": {},
   "outputs": [],
   "source": [
    "replace_empty_with_without <- function(feature) {\n",
    "    levels(feature) <- c(levels(feature), \"without\")\n",
    "    empty_string_mask <- feature == ''\n",
    "    feature[empty_string_mask] <- \"without\"\n",
    "    return(feature)\n",
    "}\n",
    "\n",
    "replace_empty_with_NA <- function(feature) {\n",
    "    levels(feature) <- c(levels(feature), NA)\n",
    "    empty_string_mask <- feature == ''\n",
    "    feature[empty_string_mask] <- NA\n",
    "    return(feature)\n",
    "}"
   ]
  },
  {
   "cell_type": "code",
   "execution_count": 128,
   "metadata": {},
   "outputs": [],
   "source": [
    "for (feature in empty_means_without) {\n",
    "    housing_df[,feature] <- replace_empty_with_without(housing_df[,feature])\n",
    "}\n",
    "\n",
    "for (feature in empty_means_NA) {\n",
    "    housing_df[,feature] <- replace_empty_with_NA(housing_df[,feature])\n",
    "}"
   ]
  },
  {
   "cell_type": "code",
   "execution_count": 129,
   "metadata": {},
   "outputs": [
    {
     "data": {
      "text/html": [
       "<ol class=list-inline>\n",
       "\t<li>1460</li>\n",
       "\t<li>82</li>\n",
       "</ol>\n"
      ],
      "text/latex": [
       "\\begin{enumerate*}\n",
       "\\item 1460\n",
       "\\item 82\n",
       "\\end{enumerate*}\n"
      ],
      "text/markdown": [
       "1. 1460\n",
       "2. 82\n",
       "\n",
       "\n"
      ],
      "text/plain": [
       "[1] 1460   82"
      ]
     },
     "metadata": {},
     "output_type": "display_data"
    }
   ],
   "source": [
    "dim(housing_df)"
   ]
  },
  {
   "cell_type": "code",
   "execution_count": 130,
   "metadata": {},
   "outputs": [
    {
     "data": {
      "text/plain": [
       "       X            MSSubClass     MSZoning     LotFrontage    \n",
       " Min.   :   1.0   20     :536   C (all):  10   Min.   : 21.00  \n",
       " 1st Qu.: 365.8   60     :299   FV     :  65   1st Qu.: 60.00  \n",
       " Median : 730.5   50     :144   RH     :  16   Median : 70.05  \n",
       " Mean   : 730.5   120    : 87   RL     :1151   Mean   : 70.05  \n",
       " 3rd Qu.:1095.2   30     : 69   RM     : 218   3rd Qu.: 79.00  \n",
       " Max.   :1460.0   160    : 63                  Max.   :313.00  \n",
       "                  (Other):262                                  \n",
       "    LotArea       LotShape  LandContour  Utilities      LotConfig    LandSlope \n",
       " Min.   :  1300   IR1:484   Bnk:  63    AllPub:1459   Corner : 263   Gtl:1382  \n",
       " 1st Qu.:  7554   IR2: 41   HLS:  50    NoSeWa:   1   CulDSac:  94   Mod:  65  \n",
       " Median :  9478   IR3: 10   Low:  36                  FR2    :  47   Sev:  13  \n",
       " Mean   : 10517   Reg:925   Lvl:1311                  FR3    :   4             \n",
       " 3rd Qu.: 11602                                       Inside :1052             \n",
       " Max.   :215245                                                                \n",
       "                                                                               \n",
       "  Neighborhood   Condition1     Condition2     BldgType      HouseStyle \n",
       " NAmes  :225   Norm   :1260   Norm   :1445   1Fam  :1220   1Story :726  \n",
       " CollgCr:150   Feedr  :  81   Feedr  :   6   2fmCon:  31   2Story :445  \n",
       " OldTown:113   Artery :  48   Artery :   2   Duplex:  52   1.5Fin :154  \n",
       " Edwards:100   RRAn   :  26   PosN   :   2   Twnhs :  43   SLvl   : 65  \n",
       " Somerst: 86   PosN   :  19   RRNn   :   2   TwnhsE: 114   SFoyer : 37  \n",
       " Gilbert: 79   RRAe   :  11   PosA   :   1                 1.5Unf : 14  \n",
       " (Other):707   (Other):  15   (Other):   2                 (Other): 19  \n",
       "  Street         Alley       OverallQual   OverallCond    YearBuilt   \n",
       " Grvl:   6          :   0   5      :397   5      :821   Min.   :1872  \n",
       " Pave:1454   Grvl   :  50   6      :374   6      :252   1st Qu.:1954  \n",
       "             Pave   :  41   7      :319   7      :205   Median :1973  \n",
       "             without:1369   8      :168   8      : 72   Mean   :1971  \n",
       "                            4      :116   4      : 57   3rd Qu.:2000  \n",
       "                            9      : 43   3      : 25   Max.   :2010  \n",
       "                            (Other): 43   (Other): 28                 \n",
       "  YearRemodAdd    RoofStyle       RoofMatl     Exterior1st   Exterior2nd \n",
       " Min.   :1950   Flat   :  13   CompShg:1434   VinylSd:515   VinylSd:504  \n",
       " 1st Qu.:1967   Gable  :1141   Tar&Grv:  11   HdBoard:222   MetalSd:214  \n",
       " Median :1994   Gambrel:  11   WdShngl:   6   MetalSd:220   HdBoard:207  \n",
       " Mean   :1985   Hip    : 286   WdShake:   5   Wd Sdng:206   Wd Sdng:197  \n",
       " 3rd Qu.:2004   Mansard:   7   ClyTile:   1   Plywood:108   Plywood:142  \n",
       " Max.   :2010   Shed   :   2   Membran:   1   CemntBd: 61   CmentBd: 60  \n",
       "                               (Other):   2   (Other):128   (Other):136  \n",
       "   MasVnrType    MasVnrArea     ExterQual ExterCond  Foundation     BsmtQual  \n",
       "        :  0   Min.   :   0.0   Ex: 52    Ex:   3   BrkTil:146          :  0  \n",
       " BrkCmn : 15   1st Qu.:   0.0   Fa: 14    Fa:  28   CBlock:634   Ex     :121  \n",
       " BrkFace:445   Median :   0.0   Gd:488    Gd: 146   PConc :647   Fa     : 35  \n",
       " None   :864   Mean   : 103.7   TA:906    Po:   1   Slab  : 24   Gd     :618  \n",
       " Stone  :128   3rd Qu.: 164.2             TA:1282   Stone :  6   TA     :649  \n",
       " NA's   :  8   Max.   :1600.0                       Wood  :  3   without: 37  \n",
       "                                                                              \n",
       "    BsmtCond     BsmtExposure  BsmtFinType1   BsmtFinSF1      BsmtFinType2 \n",
       "        :   0          :  0   Unf    :430   Min.   :   0.0   Unf    :1256  \n",
       " Fa     :  45   Av     :221   GLQ    :418   1st Qu.:   0.0   Rec    :  54  \n",
       " Gd     :  65   Gd     :134   ALQ    :220   Median : 383.5   LwQ    :  46  \n",
       " Po     :   2   Mn     :114   BLQ    :148   Mean   : 443.6   without:  38  \n",
       " TA     :1311   No     :953   Rec    :133   3rd Qu.: 712.2   BLQ    :  33  \n",
       " without:  37   without: 38   LwQ    : 74   Max.   :5644.0   ALQ    :  19  \n",
       "                              (Other): 37                    (Other):  14  \n",
       "   BsmtFinSF2        BsmtUnfSF       TotalBsmtSF      Heating     HeatingQC\n",
       " Min.   :   0.00   Min.   :   0.0   Min.   :   0.0   Floor:   1   Ex:741   \n",
       " 1st Qu.:   0.00   1st Qu.: 223.0   1st Qu.: 795.8   GasA :1428   Fa: 49   \n",
       " Median :   0.00   Median : 477.5   Median : 991.5   GasW :  18   Gd:241   \n",
       " Mean   :  46.55   Mean   : 567.2   Mean   :1057.4   Grav :   7   Po:  1   \n",
       " 3rd Qu.:   0.00   3rd Qu.: 808.0   3rd Qu.:1298.2   OthW :   2   TA:428   \n",
       " Max.   :1474.00   Max.   :2336.0   Max.   :6110.0   Wall :   4            \n",
       "                                                                           \n",
       " CentralAir Electrical     FirstFlrSF    SecondFlrSF    LowQualFinSF    \n",
       " N:  95          :   0   Min.   : 334   Min.   :   0   Min.   :  0.000  \n",
       " Y:1365     FuseA:  94   1st Qu.: 882   1st Qu.:   0   1st Qu.:  0.000  \n",
       "            FuseF:  27   Median :1087   Median :   0   Median :  0.000  \n",
       "            FuseP:   3   Mean   :1163   Mean   : 347   Mean   :  5.845  \n",
       "            Mix  :   1   3rd Qu.:1391   3rd Qu.: 728   3rd Qu.:  0.000  \n",
       "            SBrkr:1334   Max.   :4692   Max.   :2065   Max.   :572.000  \n",
       "            NA's :   1                                                  \n",
       "   GrLivArea    BsmtFullBath BsmtHalfBath FullBath HalfBath  BedroomAbvGr\n",
       " Min.   : 334   0:856        0:1378       0:  9    0:913    3      :804  \n",
       " 1st Qu.:1130   1:588        1:  80       1:650    1:535    2      :358  \n",
       " Median :1464   2: 15        2:   2       2:768    2: 12    4      :213  \n",
       " Mean   :1515   3:  1                     3: 33             1      : 50  \n",
       " 3rd Qu.:1777                                               5      : 21  \n",
       " Max.   :5642                                               6      :  7  \n",
       "                                                            (Other):  7  \n",
       " KitchenAbvGr KitchenQual  TotRmsAbvGrd Functional  Fireplaces  FireplaceQu \n",
       " 0:   1       Ex:100      6      :402   Maj1:  14   0:690             :  0  \n",
       " 1:1392       Fa: 39      7      :329   Maj2:   5   1:650      Ex     : 24  \n",
       " 2:  65       Gd:586      5      :275   Min1:  31   2:115      Fa     : 33  \n",
       " 3:   2       TA:735      8      :187   Min2:  34   3:  5      Gd     :380  \n",
       "                          4      : 97   Mod :  15              Po     : 20  \n",
       "                          9      : 75   Sev :   1              TA     :313  \n",
       "                          (Other): 95   Typ :1360              without:690  \n",
       "   GarageType   GarageYrBlt    GarageFinish GarageCars   GarageArea    \n",
       " Attchd :870   Min.   :1900          :  0   0: 81      Min.   :   0.0  \n",
       " Detchd :387   1st Qu.:1962   Fin    :352   1:369      1st Qu.: 334.5  \n",
       " BuiltIn: 88   Median :1979   RFn    :422   2:824      Median : 480.0  \n",
       " without: 81   Mean   :1979   Unf    :605   3:181      Mean   : 473.0  \n",
       " Basment: 19   3rd Qu.:2001   without: 81   4:  5      3rd Qu.: 576.0  \n",
       " CarPort:  9   Max.   :2010                            Max.   :1418.0  \n",
       " (Other):  6                                                           \n",
       "   GarageQual     GarageCond   PavedDrive   WoodDeckSF      OpenPorchSF    \n",
       "        :   0          :   0   N:  90     Min.   :  0.00   Min.   :  0.00  \n",
       " Ex     :   3   Ex     :   2   P:  30     1st Qu.:  0.00   1st Qu.:  0.00  \n",
       " Fa     :  48   Fa     :  35   Y:1340     Median :  0.00   Median : 25.00  \n",
       " Gd     :  14   Gd     :   9              Mean   : 94.24   Mean   : 46.66  \n",
       " Po     :   3   Po     :   7              3rd Qu.:168.00   3rd Qu.: 68.00  \n",
       " TA     :1311   TA     :1326              Max.   :857.00   Max.   :547.00  \n",
       " without:  81   without:  81                                               \n",
       " EnclosedPorch    ThreeSsnPorch     ScreenPorch        PoolArea      \n",
       " Min.   :  0.00   Min.   :  0.00   Min.   :  0.00   Min.   :  0.000  \n",
       " 1st Qu.:  0.00   1st Qu.:  0.00   1st Qu.:  0.00   1st Qu.:  0.000  \n",
       " Median :  0.00   Median :  0.00   Median :  0.00   Median :  0.000  \n",
       " Mean   : 21.95   Mean   :  3.41   Mean   : 15.06   Mean   :  2.759  \n",
       " 3rd Qu.:  0.00   3rd Qu.:  0.00   3rd Qu.:  0.00   3rd Qu.:  0.000  \n",
       " Max.   :552.00   Max.   :508.00   Max.   :480.00   Max.   :738.000  \n",
       "                                                                     \n",
       "     PoolQC         Fence       MiscFeature      MiscVal             MoSold   \n",
       "        :   0          :   0          :   0   Min.   :    0.00   6      :253  \n",
       " Ex     :   2   GdPrv  :  59   Gar2   :   2   1st Qu.:    0.00   7      :234  \n",
       " Fa     :   2   GdWo   :  54   Othr   :   2   Median :    0.00   5      :204  \n",
       " Gd     :   3   MnPrv  : 157   Shed   :  49   Mean   :   43.49   4      :141  \n",
       " without:1453   MnWw   :  11   TenC   :   1   3rd Qu.:    0.00   8      :122  \n",
       "                without:1179   without:1406   Max.   :15500.00   3      :106  \n",
       "                                                                 (Other):400  \n",
       "     YrSold        SaleType    SaleCondition    SalePrice       has_pool      \n",
       " Min.   :2006   WD     :1267   Abnorml: 101   Min.   : 34900   Mode :logical  \n",
       " 1st Qu.:2007   New    : 122   AdjLand:   4   1st Qu.:129975   FALSE:1453     \n",
       " Median :2008   COD    :  43   Alloca :  12   Median :163000   TRUE :7        \n",
       " Mean   :2008   ConLD  :   9   Family :  20   Mean   :180921   NA's :0        \n",
       " 3rd Qu.:2009   ConLI  :   5   Normal :1198   3rd Qu.:214000                  \n",
       " Max.   :2010   ConLw  :   5   Partial: 125   Max.   :755000                  \n",
       "                (Other):   9                                                  "
      ]
     },
     "metadata": {},
     "output_type": "display_data"
    }
   ],
   "source": [
    "summary(housing_df)"
   ]
  },
  {
   "cell_type": "code",
   "execution_count": 131,
   "metadata": {},
   "outputs": [],
   "source": [
    "housing_df <- na.omit(housing_df)"
   ]
  },
  {
   "cell_type": "code",
   "execution_count": 132,
   "metadata": {},
   "outputs": [
    {
     "data": {
      "text/html": [
       "<ol class=list-inline>\n",
       "\t<li>1451</li>\n",
       "\t<li>82</li>\n",
       "</ol>\n"
      ],
      "text/latex": [
       "\\begin{enumerate*}\n",
       "\\item 1451\n",
       "\\item 82\n",
       "\\end{enumerate*}\n"
      ],
      "text/markdown": [
       "1. 1451\n",
       "2. 82\n",
       "\n",
       "\n"
      ],
      "text/plain": [
       "[1] 1451   82"
      ]
     },
     "metadata": {},
     "output_type": "display_data"
    }
   ],
   "source": [
    "dim(housing_df)"
   ]
  },
  {
   "cell_type": "code",
   "execution_count": 133,
   "metadata": {},
   "outputs": [],
   "source": [
    "count_empty_total()"
   ]
  },
  {
   "cell_type": "code",
   "execution_count": null,
   "metadata": {},
   "outputs": [],
   "source": []
  }
 ],
 "metadata": {
  "kernelspec": {
   "display_name": "R",
   "language": "R",
   "name": "ir"
  },
  "language_info": {
   "codemirror_mode": "r",
   "file_extension": ".r",
   "mimetype": "text/x-r-source",
   "name": "R",
   "pygments_lexer": "r",
   "version": "3.3.2"
  }
 },
 "nbformat": 4,
 "nbformat_minor": 2
}
