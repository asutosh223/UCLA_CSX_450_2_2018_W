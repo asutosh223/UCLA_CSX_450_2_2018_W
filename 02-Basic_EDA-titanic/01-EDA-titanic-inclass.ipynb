{
 "cells": [
  {
   "cell_type": "code",
   "execution_count": 1,
   "metadata": {},
   "outputs": [],
   "source": [
    "titanic <- read.table('train.csv', sep=\",\", header = T)"
   ]
  },
  {
   "cell_type": "code",
   "execution_count": 2,
   "metadata": {},
   "outputs": [],
   "source": [
    "rownames(titanic) <- titanic$PassengerId\n",
    "titanic$PassengerId <- NULL\n",
    "titanic$Name <- NULL"
   ]
  },
  {
   "cell_type": "code",
   "execution_count": 3,
   "metadata": {},
   "outputs": [
    {
     "data": {
      "text/html": [
       "<ol class=list-inline>\n",
       "\t<li>'Survived'</li>\n",
       "\t<li>'Pclass'</li>\n",
       "\t<li>'Sex'</li>\n",
       "\t<li>'Age'</li>\n",
       "\t<li>'SibSp'</li>\n",
       "\t<li>'Parch'</li>\n",
       "\t<li>'Ticket'</li>\n",
       "\t<li>'Fare'</li>\n",
       "\t<li>'Cabin'</li>\n",
       "\t<li>'Embarked'</li>\n",
       "</ol>\n"
      ],
      "text/latex": [
       "\\begin{enumerate*}\n",
       "\\item 'Survived'\n",
       "\\item 'Pclass'\n",
       "\\item 'Sex'\n",
       "\\item 'Age'\n",
       "\\item 'SibSp'\n",
       "\\item 'Parch'\n",
       "\\item 'Ticket'\n",
       "\\item 'Fare'\n",
       "\\item 'Cabin'\n",
       "\\item 'Embarked'\n",
       "\\end{enumerate*}\n"
      ],
      "text/markdown": [
       "1. 'Survived'\n",
       "2. 'Pclass'\n",
       "3. 'Sex'\n",
       "4. 'Age'\n",
       "5. 'SibSp'\n",
       "6. 'Parch'\n",
       "7. 'Ticket'\n",
       "8. 'Fare'\n",
       "9. 'Cabin'\n",
       "10. 'Embarked'\n",
       "\n",
       "\n"
      ],
      "text/plain": [
       " [1] \"Survived\" \"Pclass\"   \"Sex\"      \"Age\"      \"SibSp\"    \"Parch\"   \n",
       " [7] \"Ticket\"   \"Fare\"     \"Cabin\"    \"Embarked\""
      ]
     },
     "metadata": {},
     "output_type": "display_data"
    }
   ],
   "source": [
    "names(titanic)"
   ]
  },
  {
   "cell_type": "code",
   "execution_count": 4,
   "metadata": {},
   "outputs": [
    {
     "name": "stdout",
     "output_type": "stream",
     "text": [
      "'data.frame':\t891 obs. of  10 variables:\n",
      " $ Survived: int  0 1 1 1 0 0 0 0 1 1 ...\n",
      " $ Pclass  : int  3 1 3 1 3 3 1 3 3 2 ...\n",
      " $ Sex     : Factor w/ 2 levels \"female\",\"male\": 2 1 1 1 2 2 2 2 1 1 ...\n",
      " $ Age     : num  22 38 26 35 35 NA 54 2 27 14 ...\n",
      " $ SibSp   : int  1 1 0 1 0 0 0 3 0 1 ...\n",
      " $ Parch   : int  0 0 0 0 0 0 0 1 2 0 ...\n",
      " $ Ticket  : Factor w/ 681 levels \"110152\",\"110413\",..: 524 597 670 50 473 276 86 396 345 133 ...\n",
      " $ Fare    : num  7.25 71.28 7.92 53.1 8.05 ...\n",
      " $ Cabin   : Factor w/ 148 levels \"\",\"A10\",\"A14\",..: 1 83 1 57 1 1 131 1 1 1 ...\n",
      " $ Embarked: Factor w/ 4 levels \"\",\"C\",\"Q\",\"S\": 4 2 4 4 4 3 4 4 4 2 ...\n"
     ]
    }
   ],
   "source": [
    "str(titanic)"
   ]
  },
  {
   "cell_type": "code",
   "execution_count": 5,
   "metadata": {},
   "outputs": [],
   "source": [
    "titanic$Sex <- as.integer(titanic$Sex == 'female')"
   ]
  },
  {
   "cell_type": "code",
   "execution_count": 6,
   "metadata": {},
   "outputs": [],
   "source": [
    "titanic$Pclass <- factor(titanic$Pclass)\n",
    "titanic$Embarked <- factor(titanic$Embarked)"
   ]
  },
  {
   "cell_type": "code",
   "execution_count": 7,
   "metadata": {},
   "outputs": [],
   "source": [
    "titanic$Ticket <- NULL\n",
    "titanic$Cabin <- NULL"
   ]
  },
  {
   "cell_type": "code",
   "execution_count": 8,
   "metadata": {},
   "outputs": [
    {
     "name": "stdout",
     "output_type": "stream",
     "text": [
      "'data.frame':\t891 obs. of  8 variables:\n",
      " $ Survived: int  0 1 1 1 0 0 0 0 1 1 ...\n",
      " $ Pclass  : Factor w/ 3 levels \"1\",\"2\",\"3\": 3 1 3 1 3 3 1 3 3 2 ...\n",
      " $ Sex     : int  0 1 1 1 0 0 0 0 1 1 ...\n",
      " $ Age     : num  22 38 26 35 35 NA 54 2 27 14 ...\n",
      " $ SibSp   : int  1 1 0 1 0 0 0 3 0 1 ...\n",
      " $ Parch   : int  0 0 0 0 0 0 0 1 2 0 ...\n",
      " $ Fare    : num  7.25 71.28 7.92 53.1 8.05 ...\n",
      " $ Embarked: Factor w/ 4 levels \"\",\"C\",\"Q\",\"S\": 4 2 4 4 4 3 4 4 4 2 ...\n"
     ]
    }
   ],
   "source": [
    "str(titanic)"
   ]
  },
  {
   "cell_type": "code",
   "execution_count": 9,
   "metadata": {},
   "outputs": [
    {
     "data": {
      "text/html": [
       "<dl class=dl-horizontal>\n",
       "\t<dt>Survived</dt>\n",
       "\t\t<dd>0</dd>\n",
       "\t<dt>Pclass</dt>\n",
       "\t\t<dd>0</dd>\n",
       "\t<dt>Sex</dt>\n",
       "\t\t<dd>0</dd>\n",
       "\t<dt>Age</dt>\n",
       "\t\t<dd>177</dd>\n",
       "\t<dt>SibSp</dt>\n",
       "\t\t<dd>0</dd>\n",
       "\t<dt>Parch</dt>\n",
       "\t\t<dd>0</dd>\n",
       "\t<dt>Fare</dt>\n",
       "\t\t<dd>0</dd>\n",
       "\t<dt>Embarked</dt>\n",
       "\t\t<dd>0</dd>\n",
       "</dl>\n"
      ],
      "text/latex": [
       "\\begin{description*}\n",
       "\\item[Survived] 0\n",
       "\\item[Pclass] 0\n",
       "\\item[Sex] 0\n",
       "\\item[Age] 177\n",
       "\\item[SibSp] 0\n",
       "\\item[Parch] 0\n",
       "\\item[Fare] 0\n",
       "\\item[Embarked] 0\n",
       "\\end{description*}\n"
      ],
      "text/markdown": [
       "Survived\n",
       ":   0Pclass\n",
       ":   0Sex\n",
       ":   0Age\n",
       ":   177SibSp\n",
       ":   0Parch\n",
       ":   0Fare\n",
       ":   0Embarked\n",
       ":   0\n",
       "\n"
      ],
      "text/plain": [
       "Survived   Pclass      Sex      Age    SibSp    Parch     Fare Embarked \n",
       "       0        0        0      177        0        0        0        0 "
      ]
     },
     "metadata": {},
     "output_type": "display_data"
    }
   ],
   "source": [
    "colSums(is.na(titanic))"
   ]
  },
  {
   "cell_type": "code",
   "execution_count": 10,
   "metadata": {},
   "outputs": [],
   "source": [
    "attach(titanic)"
   ]
  },
  {
   "cell_type": "code",
   "execution_count": 11,
   "metadata": {},
   "outputs": [
    {
     "data": {
      "image/png": "[encoded data removed]",
      "text/plain": [
       "Plot with title “Histogram of Fare”"
      ]
     },
     "metadata": {},
     "output_type": "display_data"
    }
   ],
   "source": [
    "library(repr); options(repr.plot.width=10, repr.plot.height=3)\n",
    "par(mfrow = c(1,6))\n",
    "hist(Survived)\n",
    "hist(Sex)\n",
    "hist(Age)\n",
    "hist(SibSp)\n",
    "hist(Parch)\n",
    "hist(Fare)"
   ]
  },
  {
   "cell_type": "code",
   "execution_count": 12,
   "metadata": {},
   "outputs": [
    {
     "data": {
      "image/png": "[encoded data removed]",
      "text/plain": [
       "plot without title"
      ]
     },
     "metadata": {},
     "output_type": "display_data"
    }
   ],
   "source": [
    "library(MASS)\n",
    "par(mfrow = c(1,6))\n",
    "truehist(Survived)\n",
    "truehist(Sex)\n",
    "truehist(Age)\n",
    "truehist(SibSp)\n",
    "truehist(Parch)\n",
    "truehist(Fare)"
   ]
  },
  {
   "cell_type": "code",
   "execution_count": 13,
   "metadata": {},
   "outputs": [
    {
     "ename": "ERROR",
     "evalue": "Error in pairs(titanic_numeric_features): object 'titanic_numeric_features' not found\n",
     "output_type": "error",
     "traceback": [
      "Error in pairs(titanic_numeric_features): object 'titanic_numeric_features' not found\nTraceback:\n",
      "1. pairs(titanic_numeric_features)"
     ]
    }
   ],
   "source": [
    "options(repr.plot.width=10, repr.plot.height=12)\n",
    "pairs(titanic_numeric_features)"
   ]
  },
  {
   "cell_type": "code",
   "execution_count": 14,
   "metadata": {},
   "outputs": [],
   "source": [
    "titanic_numeric_features <- Filter(is.numeric, titanic)"
   ]
  },
  {
   "cell_type": "code",
   "execution_count": 15,
   "metadata": {},
   "outputs": [
    {
     "data": {
      "text/html": [
       "<table>\n",
       "<thead><tr><th></th><th scope=col>Survived</th><th scope=col>Sex</th><th scope=col>Age</th><th scope=col>SibSp</th><th scope=col>Parch</th><th scope=col>Fare</th></tr></thead>\n",
       "<tbody>\n",
       "\t<tr><th scope=row>Survived</th><td> 1.00000000</td><td>0.5433514  </td><td>NA         </td><td>-0.0353225 </td><td>0.08162941 </td><td>0.2573065  </td></tr>\n",
       "\t<tr><th scope=row>Sex</th><td> 0.54335138</td><td>1.0000000  </td><td>NA         </td><td> 0.1146308 </td><td>0.24548896 </td><td>0.1823328  </td></tr>\n",
       "\t<tr><th scope=row>Age</th><td>         NA</td><td>       NA  </td><td> 1         </td><td>        NA </td><td>        NA </td><td>       NA  </td></tr>\n",
       "\t<tr><th scope=row>SibSp</th><td>-0.03532250</td><td>0.1146308  </td><td>NA         </td><td> 1.0000000 </td><td>0.41483770 </td><td>0.1596510  </td></tr>\n",
       "\t<tr><th scope=row>Parch</th><td> 0.08162941</td><td>0.2454890  </td><td>NA         </td><td> 0.4148377 </td><td>1.00000000 </td><td>0.2162249  </td></tr>\n",
       "\t<tr><th scope=row>Fare</th><td> 0.25730652</td><td>0.1823328  </td><td>NA         </td><td> 0.1596510 </td><td>0.21622494 </td><td>1.0000000  </td></tr>\n",
       "</tbody>\n",
       "</table>\n"
      ],
      "text/latex": [
       "\\begin{tabular}{r|llllll}\n",
       "  & Survived & Sex & Age & SibSp & Parch & Fare\\\\\n",
       "\\hline\n",
       "\tSurvived &  1.00000000 & 0.5433514   & NA          & -0.0353225  & 0.08162941  & 0.2573065  \\\\\n",
       "\tSex &  0.54335138 & 1.0000000   & NA          &  0.1146308  & 0.24548896  & 0.1823328  \\\\\n",
       "\tAge &          NA &        NA   &  1          &         NA  &         NA  &        NA  \\\\\n",
       "\tSibSp & -0.03532250 & 0.1146308   & NA          &  1.0000000  & 0.41483770  & 0.1596510  \\\\\n",
       "\tParch &  0.08162941 & 0.2454890   & NA          &  0.4148377  & 1.00000000  & 0.2162249  \\\\\n",
       "\tFare &  0.25730652 & 0.1823328   & NA          &  0.1596510  & 0.21622494  & 1.0000000  \\\\\n",
       "\\end{tabular}\n"
      ],
      "text/markdown": [
       "\n",
       "| <!--/--> | Survived | Sex | Age | SibSp | Parch | Fare | \n",
       "|---|---|---|---|---|---|\n",
       "| Survived |  1.00000000 | 0.5433514   | NA          | -0.0353225  | 0.08162941  | 0.2573065   | \n",
       "| Sex |  0.54335138 | 1.0000000   | NA          |  0.1146308  | 0.24548896  | 0.1823328   | \n",
       "| Age |          NA |        NA   |  1          |         NA  |         NA  |        NA   | \n",
       "| SibSp | -0.03532250 | 0.1146308   | NA          |  1.0000000  | 0.41483770  | 0.1596510   | \n",
       "| Parch |  0.08162941 | 0.2454890   | NA          |  0.4148377  | 1.00000000  | 0.2162249   | \n",
       "| Fare |  0.25730652 | 0.1823328   | NA          |  0.1596510  | 0.21622494  | 1.0000000   | \n",
       "\n",
       "\n"
      ],
      "text/plain": [
       "         Survived    Sex       Age SibSp      Parch      Fare     \n",
       "Survived  1.00000000 0.5433514 NA  -0.0353225 0.08162941 0.2573065\n",
       "Sex       0.54335138 1.0000000 NA   0.1146308 0.24548896 0.1823328\n",
       "Age               NA        NA  1          NA         NA        NA\n",
       "SibSp    -0.03532250 0.1146308 NA   1.0000000 0.41483770 0.1596510\n",
       "Parch     0.08162941 0.2454890 NA   0.4148377 1.00000000 0.2162249\n",
       "Fare      0.25730652 0.1823328 NA   0.1596510 0.21622494 1.0000000"
      ]
     },
     "metadata": {},
     "output_type": "display_data"
    }
   ],
   "source": [
    "cor(titanic_numeric_features)"
   ]
  },
  {
   "cell_type": "code",
   "execution_count": 16,
   "metadata": {},
   "outputs": [
    {
     "data": {
      "text/html": [
       "29.6991176470588"
      ],
      "text/latex": [
       "29.6991176470588"
      ],
      "text/markdown": [
       "29.6991176470588"
      ],
      "text/plain": [
       "[1] 29.69912"
      ]
     },
     "metadata": {},
     "output_type": "display_data"
    }
   ],
   "source": [
    "mean(titanic_numeric_features$Age, na.rm = T)"
   ]
  },
  {
   "cell_type": "code",
   "execution_count": 17,
   "metadata": {},
   "outputs": [],
   "source": [
    "mean_age <- mean(titanic_numeric_features$Age, na.rm = T)\n",
    "titanic_numeric_features$Age[is.na(titanic_numeric_features$Age)] <- mean_age"
   ]
  },
  {
   "cell_type": "code",
   "execution_count": 18,
   "metadata": {},
   "outputs": [
    {
     "data": {
      "text/html": [
       "<table>\n",
       "<thead><tr><th></th><th scope=col>Survived</th><th scope=col>Sex</th><th scope=col>Age</th><th scope=col>SibSp</th><th scope=col>Parch</th><th scope=col>Fare</th></tr></thead>\n",
       "<tbody>\n",
       "\t<tr><th scope=row>Survived</th><td> 1.00000000</td><td> 0.54335138</td><td>-0.06980852</td><td>-0.0353225 </td><td> 0.08162941</td><td>0.25730652 </td></tr>\n",
       "\t<tr><th scope=row>Sex</th><td> 0.54335138</td><td> 1.00000000</td><td>-0.08415344</td><td> 0.1146308 </td><td> 0.24548896</td><td>0.18233283 </td></tr>\n",
       "\t<tr><th scope=row>Age</th><td>-0.06980852</td><td>-0.08415344</td><td> 1.00000000</td><td>-0.2326246 </td><td>-0.17919092</td><td>0.09156609 </td></tr>\n",
       "\t<tr><th scope=row>SibSp</th><td>-0.03532250</td><td> 0.11463081</td><td>-0.23262459</td><td> 1.0000000 </td><td> 0.41483770</td><td>0.15965104 </td></tr>\n",
       "\t<tr><th scope=row>Parch</th><td> 0.08162941</td><td> 0.24548896</td><td>-0.17919092</td><td> 0.4148377 </td><td> 1.00000000</td><td>0.21622494 </td></tr>\n",
       "\t<tr><th scope=row>Fare</th><td> 0.25730652</td><td> 0.18233283</td><td> 0.09156609</td><td> 0.1596510 </td><td> 0.21622494</td><td>1.00000000 </td></tr>\n",
       "</tbody>\n",
       "</table>\n"
      ],
      "text/latex": [
       "\\begin{tabular}{r|llllll}\n",
       "  & Survived & Sex & Age & SibSp & Parch & Fare\\\\\n",
       "\\hline\n",
       "\tSurvived &  1.00000000 &  0.54335138 & -0.06980852 & -0.0353225  &  0.08162941 & 0.25730652 \\\\\n",
       "\tSex &  0.54335138 &  1.00000000 & -0.08415344 &  0.1146308  &  0.24548896 & 0.18233283 \\\\\n",
       "\tAge & -0.06980852 & -0.08415344 &  1.00000000 & -0.2326246  & -0.17919092 & 0.09156609 \\\\\n",
       "\tSibSp & -0.03532250 &  0.11463081 & -0.23262459 &  1.0000000  &  0.41483770 & 0.15965104 \\\\\n",
       "\tParch &  0.08162941 &  0.24548896 & -0.17919092 &  0.4148377  &  1.00000000 & 0.21622494 \\\\\n",
       "\tFare &  0.25730652 &  0.18233283 &  0.09156609 &  0.1596510  &  0.21622494 & 1.00000000 \\\\\n",
       "\\end{tabular}\n"
      ],
      "text/markdown": [
       "\n",
       "| <!--/--> | Survived | Sex | Age | SibSp | Parch | Fare | \n",
       "|---|---|---|---|---|---|\n",
       "| Survived |  1.00000000 |  0.54335138 | -0.06980852 | -0.0353225  |  0.08162941 | 0.25730652  | \n",
       "| Sex |  0.54335138 |  1.00000000 | -0.08415344 |  0.1146308  |  0.24548896 | 0.18233283  | \n",
       "| Age | -0.06980852 | -0.08415344 |  1.00000000 | -0.2326246  | -0.17919092 | 0.09156609  | \n",
       "| SibSp | -0.03532250 |  0.11463081 | -0.23262459 |  1.0000000  |  0.41483770 | 0.15965104  | \n",
       "| Parch |  0.08162941 |  0.24548896 | -0.17919092 |  0.4148377  |  1.00000000 | 0.21622494  | \n",
       "| Fare |  0.25730652 |  0.18233283 |  0.09156609 |  0.1596510  |  0.21622494 | 1.00000000  | \n",
       "\n",
       "\n"
      ],
      "text/plain": [
       "         Survived    Sex         Age         SibSp      Parch       Fare      \n",
       "Survived  1.00000000  0.54335138 -0.06980852 -0.0353225  0.08162941 0.25730652\n",
       "Sex       0.54335138  1.00000000 -0.08415344  0.1146308  0.24548896 0.18233283\n",
       "Age      -0.06980852 -0.08415344  1.00000000 -0.2326246 -0.17919092 0.09156609\n",
       "SibSp    -0.03532250  0.11463081 -0.23262459  1.0000000  0.41483770 0.15965104\n",
       "Parch     0.08162941  0.24548896 -0.17919092  0.4148377  1.00000000 0.21622494\n",
       "Fare      0.25730652  0.18233283  0.09156609  0.1596510  0.21622494 1.00000000"
      ]
     },
     "metadata": {},
     "output_type": "display_data"
    }
   ],
   "source": [
    "cor(titanic_numeric_features)"
   ]
  },
  {
   "cell_type": "code",
   "execution_count": null,
   "metadata": {},
   "outputs": [],
   "source": []
  },
  {
   "cell_type": "code",
   "execution_count": null,
   "metadata": {},
   "outputs": [],
   "source": []
  }
 ],
 "metadata": {
  "kernelspec": {
   "display_name": "R",
   "language": "R",
   "name": "ir"
  },
  "language_info": {
   "codemirror_mode": "r",
   "file_extension": ".r",
   "mimetype": "text/x-r-source",
   "name": "R",
   "pygments_lexer": "r",
   "version": "3.3.2"
  }
 },
 "nbformat": 4,
 "nbformat_minor": 2
}
