{
 "cells": [
  {
   "cell_type": "code",
   "execution_count": 1,
   "metadata": {},
   "outputs": [],
   "source": [
    "titanic <- read.table('train.csv', sep=\",\", header = T)"
   ]
  },
  {
   "cell_type": "code",
   "execution_count": 2,
   "metadata": {},
   "outputs": [],
   "source": [
    "rownames(titanic) <- titanic$PassengerId\n",
    "titanic$PassengerId <- NULL\n",
    "titanic$Name <- NULL"
   ]
  },
  {
   "cell_type": "code",
   "execution_count": 3,
   "metadata": {},
   "outputs": [
    {
     "name": "stdout",
     "output_type": "stream",
     "text": [
      "'data.frame':\t891 obs. of  10 variables:\n",
      " $ Survived: int  0 1 1 1 0 0 0 0 1 1 ...\n",
      " $ Pclass  : int  3 1 3 1 3 3 1 3 3 2 ...\n",
      " $ Sex     : Factor w/ 2 levels \"female\",\"male\": 2 1 1 1 2 2 2 2 1 1 ...\n",
      " $ Age     : num  22 38 26 35 35 NA 54 2 27 14 ...\n",
      " $ SibSp   : int  1 1 0 1 0 0 0 3 0 1 ...\n",
      " $ Parch   : int  0 0 0 0 0 0 0 1 2 0 ...\n",
      " $ Ticket  : Factor w/ 681 levels \"110152\",\"110413\",..: 524 597 670 50 473 276 86 396 345 133 ...\n",
      " $ Fare    : num  7.25 71.28 7.92 53.1 8.05 ...\n",
      " $ Cabin   : Factor w/ 148 levels \"\",\"A10\",\"A14\",..: 1 83 1 57 1 1 131 1 1 1 ...\n",
      " $ Embarked: Factor w/ 4 levels \"\",\"C\",\"Q\",\"S\": 4 2 4 4 4 3 4 4 4 2 ...\n"
     ]
    }
   ],
   "source": [
    "str(titanic)"
   ]
  },
  {
   "cell_type": "code",
   "execution_count": 4,
   "metadata": {},
   "outputs": [],
   "source": [
    "titanic$Pclass <- factor(titanic$Pclass)\n",
    "titanic$SibSp <- factor(titanic$SibSp)\n",
    "titanic$Parch <- factor(titanic$Parch)\n",
    "titanic$Embarked <- factor(titanic$Embarked)"
   ]
  },
  {
   "cell_type": "code",
   "execution_count": 5,
   "metadata": {},
   "outputs": [
    {
     "data": {
      "text/html": [
       "687"
      ],
      "text/latex": [
       "687"
      ],
      "text/markdown": [
       "687"
      ],
      "text/plain": [
       "[1] 687"
      ]
     },
     "metadata": {},
     "output_type": "display_data"
    }
   ],
   "source": [
    "sum(titanic$Cabin == \"\")\n",
    "titanic$Has_Cabin <- factor(titanic$Cabin != \"\")\n",
    "titanic$Cabin <- NULL"
   ]
  },
  {
   "cell_type": "code",
   "execution_count": 6,
   "metadata": {},
   "outputs": [],
   "source": [
    "titanic$Ticket <- NULL"
   ]
  },
  {
   "cell_type": "code",
   "execution_count": 7,
   "metadata": {},
   "outputs": [
    {
     "name": "stderr",
     "output_type": "stream",
     "text": [
      "Loading required package: lattice\n",
      "Loading required package: ggplot2\n"
     ]
    }
   ],
   "source": [
    "library(caret)"
   ]
  },
  {
   "cell_type": "code",
   "execution_count": 8,
   "metadata": {},
   "outputs": [],
   "source": [
    "set.seed(10)"
   ]
  },
  {
   "cell_type": "code",
   "execution_count": 9,
   "metadata": {},
   "outputs": [],
   "source": [
    "train_index <- createDataPartition(titanic$Survived,p=0.8,list=FALSE)\n",
    "training_data <- titanic[train_index,]\n",
    "validation_data <- titanic[-train_index,]"
   ]
  },
  {
   "cell_type": "code",
   "execution_count": 10,
   "metadata": {},
   "outputs": [
    {
     "data": {
      "text/plain": [
       "\n",
       "        0         1 \n",
       "0.6143058 0.3856942 "
      ]
     },
     "metadata": {},
     "output_type": "display_data"
    },
    {
     "data": {
      "text/plain": [
       "\n",
       "        0         1 \n",
       "0.6235955 0.3764045 "
      ]
     },
     "metadata": {},
     "output_type": "display_data"
    }
   ],
   "source": [
    "prop.table(table(training_data$Survived))\n",
    "prop.table(table(validation_data$Survived))"
   ]
  },
  {
   "cell_type": "code",
   "execution_count": 11,
   "metadata": {},
   "outputs": [
    {
     "data": {
      "text/html": [
       "<dl class=dl-horizontal>\n",
       "\t<dt>Survived</dt>\n",
       "\t\t<dd>0</dd>\n",
       "\t<dt>Pclass</dt>\n",
       "\t\t<dd>0</dd>\n",
       "\t<dt>Sex</dt>\n",
       "\t\t<dd>0</dd>\n",
       "\t<dt>Age</dt>\n",
       "\t\t<dd>137</dd>\n",
       "\t<dt>SibSp</dt>\n",
       "\t\t<dd>0</dd>\n",
       "\t<dt>Parch</dt>\n",
       "\t\t<dd>0</dd>\n",
       "\t<dt>Fare</dt>\n",
       "\t\t<dd>0</dd>\n",
       "\t<dt>Embarked</dt>\n",
       "\t\t<dd>0</dd>\n",
       "\t<dt>Has_Cabin</dt>\n",
       "\t\t<dd>0</dd>\n",
       "</dl>\n"
      ],
      "text/latex": [
       "\\begin{description*}\n",
       "\\item[Survived] 0\n",
       "\\item[Pclass] 0\n",
       "\\item[Sex] 0\n",
       "\\item[Age] 137\n",
       "\\item[SibSp] 0\n",
       "\\item[Parch] 0\n",
       "\\item[Fare] 0\n",
       "\\item[Embarked] 0\n",
       "\\item[Has\\textbackslash{}\\_Cabin] 0\n",
       "\\end{description*}\n"
      ],
      "text/markdown": [
       "Survived\n",
       ":   0Pclass\n",
       ":   0Sex\n",
       ":   0Age\n",
       ":   137SibSp\n",
       ":   0Parch\n",
       ":   0Fare\n",
       ":   0Embarked\n",
       ":   0Has_Cabin\n",
       ":   0\n",
       "\n"
      ],
      "text/plain": [
       " Survived    Pclass       Sex       Age     SibSp     Parch      Fare  Embarked \n",
       "        0         0         0       137         0         0         0         0 \n",
       "Has_Cabin \n",
       "        0 "
      ]
     },
     "metadata": {},
     "output_type": "display_data"
    },
    {
     "data": {
      "text/html": [
       "<dl class=dl-horizontal>\n",
       "\t<dt>Survived</dt>\n",
       "\t\t<dd>0</dd>\n",
       "\t<dt>Pclass</dt>\n",
       "\t\t<dd>0</dd>\n",
       "\t<dt>Sex</dt>\n",
       "\t\t<dd>0</dd>\n",
       "\t<dt>Age</dt>\n",
       "\t\t<dd>40</dd>\n",
       "\t<dt>SibSp</dt>\n",
       "\t\t<dd>0</dd>\n",
       "\t<dt>Parch</dt>\n",
       "\t\t<dd>0</dd>\n",
       "\t<dt>Fare</dt>\n",
       "\t\t<dd>0</dd>\n",
       "\t<dt>Embarked</dt>\n",
       "\t\t<dd>0</dd>\n",
       "\t<dt>Has_Cabin</dt>\n",
       "\t\t<dd>0</dd>\n",
       "</dl>\n"
      ],
      "text/latex": [
       "\\begin{description*}\n",
       "\\item[Survived] 0\n",
       "\\item[Pclass] 0\n",
       "\\item[Sex] 0\n",
       "\\item[Age] 40\n",
       "\\item[SibSp] 0\n",
       "\\item[Parch] 0\n",
       "\\item[Fare] 0\n",
       "\\item[Embarked] 0\n",
       "\\item[Has\\textbackslash{}\\_Cabin] 0\n",
       "\\end{description*}\n"
      ],
      "text/markdown": [
       "Survived\n",
       ":   0Pclass\n",
       ":   0Sex\n",
       ":   0Age\n",
       ":   40SibSp\n",
       ":   0Parch\n",
       ":   0Fare\n",
       ":   0Embarked\n",
       ":   0Has_Cabin\n",
       ":   0\n",
       "\n"
      ],
      "text/plain": [
       " Survived    Pclass       Sex       Age     SibSp     Parch      Fare  Embarked \n",
       "        0         0         0        40         0         0         0         0 \n",
       "Has_Cabin \n",
       "        0 "
      ]
     },
     "metadata": {},
     "output_type": "display_data"
    },
    {
     "data": {
      "text/html": [
       "<dl class=dl-horizontal>\n",
       "\t<dt>Survived</dt>\n",
       "\t\t<dd>0</dd>\n",
       "\t<dt>Pclass</dt>\n",
       "\t\t<dd>0</dd>\n",
       "\t<dt>Sex</dt>\n",
       "\t\t<dd>0</dd>\n",
       "\t<dt>Age</dt>\n",
       "\t\t<dd>0</dd>\n",
       "\t<dt>SibSp</dt>\n",
       "\t\t<dd>0</dd>\n",
       "\t<dt>Parch</dt>\n",
       "\t\t<dd>0</dd>\n",
       "\t<dt>Fare</dt>\n",
       "\t\t<dd>0</dd>\n",
       "\t<dt>Embarked</dt>\n",
       "\t\t<dd>0</dd>\n",
       "\t<dt>Has_Cabin</dt>\n",
       "\t\t<dd>0</dd>\n",
       "</dl>\n"
      ],
      "text/latex": [
       "\\begin{description*}\n",
       "\\item[Survived] 0\n",
       "\\item[Pclass] 0\n",
       "\\item[Sex] 0\n",
       "\\item[Age] 0\n",
       "\\item[SibSp] 0\n",
       "\\item[Parch] 0\n",
       "\\item[Fare] 0\n",
       "\\item[Embarked] 0\n",
       "\\item[Has\\textbackslash{}\\_Cabin] 0\n",
       "\\end{description*}\n"
      ],
      "text/markdown": [
       "Survived\n",
       ":   0Pclass\n",
       ":   0Sex\n",
       ":   0Age\n",
       ":   0SibSp\n",
       ":   0Parch\n",
       ":   0Fare\n",
       ":   0Embarked\n",
       ":   0Has_Cabin\n",
       ":   0\n",
       "\n"
      ],
      "text/plain": [
       " Survived    Pclass       Sex       Age     SibSp     Parch      Fare  Embarked \n",
       "        0         0         0         0         0         0         0         0 \n",
       "Has_Cabin \n",
       "        0 "
      ]
     },
     "metadata": {},
     "output_type": "display_data"
    },
    {
     "data": {
      "text/html": [
       "<dl class=dl-horizontal>\n",
       "\t<dt>Survived</dt>\n",
       "\t\t<dd>0</dd>\n",
       "\t<dt>Pclass</dt>\n",
       "\t\t<dd>0</dd>\n",
       "\t<dt>Sex</dt>\n",
       "\t\t<dd>0</dd>\n",
       "\t<dt>Age</dt>\n",
       "\t\t<dd>0</dd>\n",
       "\t<dt>SibSp</dt>\n",
       "\t\t<dd>0</dd>\n",
       "\t<dt>Parch</dt>\n",
       "\t\t<dd>0</dd>\n",
       "\t<dt>Fare</dt>\n",
       "\t\t<dd>0</dd>\n",
       "\t<dt>Embarked</dt>\n",
       "\t\t<dd>0</dd>\n",
       "\t<dt>Has_Cabin</dt>\n",
       "\t\t<dd>0</dd>\n",
       "</dl>\n"
      ],
      "text/latex": [
       "\\begin{description*}\n",
       "\\item[Survived] 0\n",
       "\\item[Pclass] 0\n",
       "\\item[Sex] 0\n",
       "\\item[Age] 0\n",
       "\\item[SibSp] 0\n",
       "\\item[Parch] 0\n",
       "\\item[Fare] 0\n",
       "\\item[Embarked] 0\n",
       "\\item[Has\\textbackslash{}\\_Cabin] 0\n",
       "\\end{description*}\n"
      ],
      "text/markdown": [
       "Survived\n",
       ":   0Pclass\n",
       ":   0Sex\n",
       ":   0Age\n",
       ":   0SibSp\n",
       ":   0Parch\n",
       ":   0Fare\n",
       ":   0Embarked\n",
       ":   0Has_Cabin\n",
       ":   0\n",
       "\n"
      ],
      "text/plain": [
       " Survived    Pclass       Sex       Age     SibSp     Parch      Fare  Embarked \n",
       "        0         0         0         0         0         0         0         0 \n",
       "Has_Cabin \n",
       "        0 "
      ]
     },
     "metadata": {},
     "output_type": "display_data"
    }
   ],
   "source": [
    "colSums(is.na(training_data))\n",
    "colSums(is.na(validation_data))\n",
    "mean_age <- mean(training_data$Age, na.rm = T)\n",
    "training_data$Age[is.na(training_data$Age)] <- mean_age\n",
    "validation_data$Age[is.na(validation_data$Age)] <- mean_age\n",
    "colSums(is.na(training_data))\n",
    "colSums(is.na(validation_data))"
   ]
  },
  {
   "cell_type": "code",
   "execution_count": 12,
   "metadata": {},
   "outputs": [
    {
     "name": "stdout",
     "output_type": "stream",
     "text": [
      "'data.frame':\t713 obs. of  9 variables:\n",
      " $ Survived : int  0 1 1 0 0 0 0 1 1 0 ...\n",
      " $ Pclass   : Factor w/ 3 levels \"1\",\"2\",\"3\": 3 3 1 3 3 1 3 3 1 3 ...\n",
      " $ Sex      : Factor w/ 2 levels \"female\",\"male\": 2 1 1 2 2 2 2 1 1 2 ...\n",
      " $ Age      : num  22 26 35 35 30.1 ...\n",
      " $ SibSp    : Factor w/ 7 levels \"0\",\"1\",\"2\",\"3\",..: 2 1 2 1 1 1 4 2 1 1 ...\n",
      " $ Parch    : Factor w/ 7 levels \"0\",\"1\",\"2\",\"3\",..: 1 1 1 1 1 1 2 2 1 1 ...\n",
      " $ Fare     : num  7.25 7.92 53.1 8.05 8.46 ...\n",
      " $ Embarked : Factor w/ 4 levels \"\",\"C\",\"Q\",\"S\": 4 4 4 4 3 4 4 4 4 4 ...\n",
      " $ Has_Cabin: Factor w/ 2 levels \"FALSE\",\"TRUE\": 1 1 2 1 1 2 1 2 2 1 ...\n"
     ]
    }
   ],
   "source": [
    "str(training_data)"
   ]
  },
  {
   "cell_type": "code",
   "execution_count": 13,
   "metadata": {},
   "outputs": [],
   "source": [
    "attach(training_data)"
   ]
  },
  {
   "cell_type": "code",
   "execution_count": 14,
   "metadata": {},
   "outputs": [
    {
     "data": {
      "text/plain": [
       "Pclass\n",
       "  1   2   3 \n",
       "174 151 388 "
      ]
     },
     "metadata": {},
     "output_type": "display_data"
    },
    {
     "data": {
      "text/plain": [
       "      Survived\n",
       "Pclass         0         1\n",
       "     1 0.3850575 0.6149425\n",
       "     2 0.5033113 0.4966887\n",
       "     3 0.7603093 0.2396907"
      ]
     },
     "metadata": {},
     "output_type": "display_data"
    }
   ],
   "source": [
    "table(Pclass)\n",
    "prop.table(table(Pclass, Survived), 1)"
   ]
  },
  {
   "cell_type": "code",
   "execution_count": 15,
   "metadata": {},
   "outputs": [
    {
     "data": {
      "text/plain": [
       "Sex\n",
       "female   male \n",
       "   251    462 "
      ]
     },
     "metadata": {},
     "output_type": "display_data"
    },
    {
     "data": {
      "text/plain": [
       "        Survived\n",
       "Sex              0         1\n",
       "  female 0.2629482 0.7370518\n",
       "  male   0.8051948 0.1948052"
      ]
     },
     "metadata": {},
     "output_type": "display_data"
    }
   ],
   "source": [
    "table(Sex)\n",
    "prop.table(table(Sex, Survived), 1)"
   ]
  },
  {
   "cell_type": "code",
   "execution_count": 16,
   "metadata": {},
   "outputs": [
    {
     "data": {
      "text/plain": [
       "SibSp\n",
       "  0   1   2   3   4   5   8 \n",
       "498 164  21   8  12   4   6 "
      ]
     },
     "metadata": {},
     "output_type": "display_data"
    },
    {
     "data": {
      "text/plain": [
       "     Survived\n",
       "SibSp         0         1\n",
       "    0 0.6485944 0.3514056\n",
       "    1 0.4512195 0.5487805\n",
       "    2 0.6666667 0.3333333\n",
       "    3 0.8750000 0.1250000\n",
       "    4 0.8333333 0.1666667\n",
       "    5 1.0000000 0.0000000\n",
       "    8 1.0000000 0.0000000"
      ]
     },
     "metadata": {},
     "output_type": "display_data"
    }
   ],
   "source": [
    "table(SibSp)\n",
    "prop.table(table(SibSp, Survived), 1)"
   ]
  },
  {
   "cell_type": "code",
   "execution_count": 17,
   "metadata": {},
   "outputs": [
    {
     "data": {
      "text/plain": [
       "Parch\n",
       "  0   1   2   3   4   5   6 \n",
       "547  93  59   5   4   4   1 "
      ]
     },
     "metadata": {},
     "output_type": "display_data"
    },
    {
     "data": {
      "text/plain": [
       "     Survived\n",
       "Parch         0         1\n",
       "    0 0.6544790 0.3455210\n",
       "    1 0.4301075 0.5698925\n",
       "    2 0.5084746 0.4915254\n",
       "    3 0.4000000 0.6000000\n",
       "    4 1.0000000 0.0000000\n",
       "    5 0.7500000 0.2500000\n",
       "    6 1.0000000 0.0000000"
      ]
     },
     "metadata": {},
     "output_type": "display_data"
    }
   ],
   "source": [
    "table(Parch)\n",
    "prop.table(table(Parch, Survived), 1)"
   ]
  },
  {
   "cell_type": "code",
   "execution_count": 18,
   "metadata": {},
   "outputs": [
    {
     "data": {
      "text/plain": [
       "Embarked\n",
       "      C   Q   S \n",
       "  1 121  62 529 "
      ]
     },
     "metadata": {},
     "output_type": "display_data"
    },
    {
     "data": {
      "text/plain": [
       "        Survived\n",
       "Embarked         0         1\n",
       "         0.0000000 1.0000000\n",
       "       C 0.4628099 0.5371901\n",
       "       Q 0.6129032 0.3870968\n",
       "       S 0.6502836 0.3497164"
      ]
     },
     "metadata": {},
     "output_type": "display_data"
    }
   ],
   "source": [
    "table(Embarked)\n",
    "prop.table(table(Embarked, Survived), 1)"
   ]
  },
  {
   "cell_type": "code",
   "execution_count": null,
   "metadata": {},
   "outputs": [],
   "source": []
  }
 ],
 "metadata": {
  "kernelspec": {
   "display_name": "R",
   "language": "R",
   "name": "ir"
  },
  "language_info": {
   "codemirror_mode": "r",
   "file_extension": ".r",
   "mimetype": "text/x-r-source",
   "name": "R",
   "pygments_lexer": "r",
   "version": "3.3.2"
  }
 },
 "nbformat": 4,
 "nbformat_minor": 2
}
